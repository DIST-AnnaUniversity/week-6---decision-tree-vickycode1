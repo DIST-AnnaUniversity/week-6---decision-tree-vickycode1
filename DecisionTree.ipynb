{
  "nbformat": 4,
  "nbformat_minor": 0,
  "metadata": {
    "colab": {
      "provenance": []
    },
    "kernelspec": {
      "name": "python3",
      "display_name": "Python 3"
    },
    "language_info": {
      "name": "python"
    }
  },
  "cells": [
    {
      "cell_type": "code",
      "execution_count": 2,
      "metadata": {
        "id": "l0Cr6tKR4rwg"
      },
      "outputs": [],
      "source": [
        "import pandas as pd\n",
        "from sklearn import tree\n",
        "from sklearn.tree import DecisionTreeClassifier\n",
        "import matplotlib.pyplot as plt "
      ]
    },
    {
      "cell_type": "code",
      "source": [
        "data = pd.read_csv(\"Social_Network_Ads.csv\")"
      ],
      "metadata": {
        "id": "_p7g0hcO5LGM"
      },
      "execution_count": 3,
      "outputs": []
    },
    {
      "cell_type": "code",
      "source": [
        "features = ['Age' , 'EstimatedSalary']"
      ],
      "metadata": {
        "id": "ufbLb3Mb5ZDE"
      },
      "execution_count": 4,
      "outputs": []
    },
    {
      "cell_type": "code",
      "source": [
        "x = data[features]\n",
        "y = data['Purchased']"
      ],
      "metadata": {
        "id": "pdHiS8hY5nR0"
      },
      "execution_count": 5,
      "outputs": []
    },
    {
      "cell_type": "code",
      "source": [
        "dtree = DecisionTreeClassifier()\n",
        "dtree.fit(x,y)"
      ],
      "metadata": {
        "colab": {
          "base_uri": "https://localhost:8080/"
        },
        "id": "XbKIxtz552Js",
        "outputId": "3b38443a-ad9b-4b2e-9754-5ba627a8a8e7"
      },
      "execution_count": 6,
      "outputs": [
        {
          "output_type": "execute_result",
          "data": {
            "text/plain": [
              "DecisionTreeClassifier()"
            ]
          },
          "metadata": {},
          "execution_count": 6
        }
      ]
    },
    {
      "cell_type": "code",
      "source": [
        "tree.plot_tree(dtree, feature_names=features)"
      ],
      "metadata": {
        "colab": {
          "base_uri": "https://localhost:8080/",
          "height": 1000
        },
        "id": "5mhmtWvU5-Fz",
        "outputId": "f0bdd05c-1fec-4ddb-aab8-f7c01d13e4de"
      },
      "execution_count": 7,
      "outputs": [
        {
          "output_type": "execute_result",
          "data": {
            "text/plain": [
              "[Text(0.4332932692307692, 0.9666666666666667, 'Age <= 42.5\\ngini = 0.459\\nsamples = 400\\nvalue = [257, 143]'),\n",
              " Text(0.23197115384615385, 0.9, 'EstimatedSalary <= 90500.0\\ngini = 0.271\\nsamples = 285\\nvalue = [239, 46]'),\n",
              " Text(0.11778846153846154, 0.8333333333333334, 'Age <= 36.5\\ngini = 0.072\\nsamples = 241\\nvalue = [232, 9]'),\n",
              " Text(0.0985576923076923, 0.7666666666666667, 'gini = 0.0\\nsamples = 162\\nvalue = [162, 0]'),\n",
              " Text(0.13701923076923078, 0.7666666666666667, 'EstimatedSalary <= 83500.0\\ngini = 0.202\\nsamples = 79\\nvalue = [70, 9]'),\n",
              " Text(0.11778846153846154, 0.7, 'EstimatedSalary <= 67500.0\\ngini = 0.165\\nsamples = 77\\nvalue = [70, 7]'),\n",
              " Text(0.0985576923076923, 0.6333333333333333, 'gini = 0.0\\nsamples = 40\\nvalue = [40, 0]'),\n",
              " Text(0.13701923076923078, 0.6333333333333333, 'EstimatedSalary <= 70500.0\\ngini = 0.307\\nsamples = 37\\nvalue = [30, 7]'),\n",
              " Text(0.08653846153846154, 0.5666666666666667, 'Age <= 39.5\\ngini = 0.5\\nsamples = 2\\nvalue = [1, 1]'),\n",
              " Text(0.0673076923076923, 0.5, 'gini = 0.0\\nsamples = 1\\nvalue = [0, 1]'),\n",
              " Text(0.10576923076923077, 0.5, 'gini = 0.0\\nsamples = 1\\nvalue = [1, 0]'),\n",
              " Text(0.1875, 0.5666666666666667, 'Age <= 41.5\\ngini = 0.284\\nsamples = 35\\nvalue = [29, 6]'),\n",
              " Text(0.14423076923076922, 0.5, 'Age <= 40.5\\ngini = 0.231\\nsamples = 30\\nvalue = [26, 4]'),\n",
              " Text(0.125, 0.43333333333333335, 'EstimatedSalary <= 77500.0\\ngini = 0.287\\nsamples = 23\\nvalue = [19, 4]'),\n",
              " Text(0.057692307692307696, 0.36666666666666664, 'Age <= 38.5\\ngini = 0.219\\nsamples = 16\\nvalue = [14, 2]'),\n",
              " Text(0.038461538461538464, 0.3, 'gini = 0.0\\nsamples = 7\\nvalue = [7, 0]'),\n",
              " Text(0.07692307692307693, 0.3, 'EstimatedSalary <= 71500.0\\ngini = 0.346\\nsamples = 9\\nvalue = [7, 2]'),\n",
              " Text(0.038461538461538464, 0.23333333333333334, 'Age <= 39.5\\ngini = 0.444\\nsamples = 3\\nvalue = [2, 1]'),\n",
              " Text(0.019230769230769232, 0.16666666666666666, 'gini = 0.0\\nsamples = 2\\nvalue = [2, 0]'),\n",
              " Text(0.057692307692307696, 0.16666666666666666, 'gini = 0.0\\nsamples = 1\\nvalue = [0, 1]'),\n",
              " Text(0.11538461538461539, 0.23333333333333334, 'Age <= 39.5\\ngini = 0.278\\nsamples = 6\\nvalue = [5, 1]'),\n",
              " Text(0.09615384615384616, 0.16666666666666666, 'EstimatedSalary <= 74000.0\\ngini = 0.444\\nsamples = 3\\nvalue = [2, 1]'),\n",
              " Text(0.07692307692307693, 0.1, 'gini = 0.0\\nsamples = 1\\nvalue = [1, 0]'),\n",
              " Text(0.11538461538461539, 0.1, 'EstimatedSalary <= 76000.0\\ngini = 0.5\\nsamples = 2\\nvalue = [1, 1]'),\n",
              " Text(0.09615384615384616, 0.03333333333333333, 'gini = 0.0\\nsamples = 1\\nvalue = [0, 1]'),\n",
              " Text(0.1346153846153846, 0.03333333333333333, 'gini = 0.0\\nsamples = 1\\nvalue = [1, 0]'),\n",
              " Text(0.1346153846153846, 0.16666666666666666, 'gini = 0.0\\nsamples = 3\\nvalue = [3, 0]'),\n",
              " Text(0.19230769230769232, 0.36666666666666664, 'Age <= 37.5\\ngini = 0.408\\nsamples = 7\\nvalue = [5, 2]'),\n",
              " Text(0.17307692307692307, 0.3, 'EstimatedSalary <= 79500.0\\ngini = 0.5\\nsamples = 4\\nvalue = [2, 2]'),\n",
              " Text(0.15384615384615385, 0.23333333333333334, 'gini = 0.0\\nsamples = 2\\nvalue = [0, 2]'),\n",
              " Text(0.19230769230769232, 0.23333333333333334, 'gini = 0.0\\nsamples = 2\\nvalue = [2, 0]'),\n",
              " Text(0.21153846153846154, 0.3, 'gini = 0.0\\nsamples = 3\\nvalue = [3, 0]'),\n",
              " Text(0.16346153846153846, 0.43333333333333335, 'gini = 0.0\\nsamples = 7\\nvalue = [7, 0]'),\n",
              " Text(0.23076923076923078, 0.5, 'EstimatedSalary <= 74000.0\\ngini = 0.48\\nsamples = 5\\nvalue = [3, 2]'),\n",
              " Text(0.21153846153846154, 0.43333333333333335, 'gini = 0.0\\nsamples = 1\\nvalue = [0, 1]'),\n",
              " Text(0.25, 0.43333333333333335, 'EstimatedSalary <= 79500.0\\ngini = 0.375\\nsamples = 4\\nvalue = [3, 1]'),\n",
              " Text(0.23076923076923078, 0.36666666666666664, 'gini = 0.0\\nsamples = 2\\nvalue = [2, 0]'),\n",
              " Text(0.2692307692307692, 0.36666666666666664, 'gini = 0.5\\nsamples = 2\\nvalue = [1, 1]'),\n",
              " Text(0.15625, 0.7, 'gini = 0.0\\nsamples = 2\\nvalue = [0, 2]'),\n",
              " Text(0.34615384615384615, 0.8333333333333334, 'EstimatedSalary <= 119000.0\\ngini = 0.268\\nsamples = 44\\nvalue = [7, 37]'),\n",
              " Text(0.3269230769230769, 0.7666666666666667, 'EstimatedSalary <= 107500.0\\ngini = 0.413\\nsamples = 24\\nvalue = [7, 17]'),\n",
              " Text(0.3076923076923077, 0.7, 'gini = 0.0\\nsamples = 11\\nvalue = [0, 11]'),\n",
              " Text(0.34615384615384615, 0.7, 'Age <= 30.5\\ngini = 0.497\\nsamples = 13\\nvalue = [7, 6]'),\n",
              " Text(0.3269230769230769, 0.6333333333333333, 'gini = 0.0\\nsamples = 2\\nvalue = [2, 0]'),\n",
              " Text(0.36538461538461536, 0.6333333333333333, 'EstimatedSalary <= 117500.0\\ngini = 0.496\\nsamples = 11\\nvalue = [5, 6]'),\n",
              " Text(0.34615384615384615, 0.5666666666666667, 'Age <= 40.0\\ngini = 0.494\\nsamples = 9\\nvalue = [5, 4]'),\n",
              " Text(0.3269230769230769, 0.5, 'EstimatedSalary <= 110000.0\\ngini = 0.469\\nsamples = 8\\nvalue = [5, 3]'),\n",
              " Text(0.3076923076923077, 0.43333333333333335, 'gini = 0.0\\nsamples = 1\\nvalue = [1, 0]'),\n",
              " Text(0.34615384615384615, 0.43333333333333335, 'EstimatedSalary <= 114000.0\\ngini = 0.49\\nsamples = 7\\nvalue = [4, 3]'),\n",
              " Text(0.3076923076923077, 0.36666666666666664, 'Age <= 33.5\\ngini = 0.5\\nsamples = 4\\nvalue = [2, 2]'),\n",
              " Text(0.28846153846153844, 0.3, 'gini = 0.0\\nsamples = 1\\nvalue = [1, 0]'),\n",
              " Text(0.3269230769230769, 0.3, 'EstimatedSalary <= 112500.0\\ngini = 0.444\\nsamples = 3\\nvalue = [1, 2]'),\n",
              " Text(0.3076923076923077, 0.23333333333333334, 'Age <= 36.0\\ngini = 0.5\\nsamples = 2\\nvalue = [1, 1]'),\n",
              " Text(0.28846153846153844, 0.16666666666666666, 'gini = 0.0\\nsamples = 1\\nvalue = [0, 1]'),\n",
              " Text(0.3269230769230769, 0.16666666666666666, 'gini = 0.0\\nsamples = 1\\nvalue = [1, 0]'),\n",
              " Text(0.34615384615384615, 0.23333333333333334, 'gini = 0.0\\nsamples = 1\\nvalue = [0, 1]'),\n",
              " Text(0.38461538461538464, 0.36666666666666664, 'Age <= 33.0\\ngini = 0.444\\nsamples = 3\\nvalue = [2, 1]'),\n",
              " Text(0.36538461538461536, 0.3, 'gini = 0.5\\nsamples = 2\\nvalue = [1, 1]'),\n",
              " Text(0.40384615384615385, 0.3, 'gini = 0.0\\nsamples = 1\\nvalue = [1, 0]'),\n",
              " Text(0.36538461538461536, 0.5, 'gini = 0.0\\nsamples = 1\\nvalue = [0, 1]'),\n",
              " Text(0.38461538461538464, 0.5666666666666667, 'gini = 0.0\\nsamples = 2\\nvalue = [0, 2]'),\n",
              " Text(0.36538461538461536, 0.7666666666666667, 'gini = 0.0\\nsamples = 20\\nvalue = [0, 20]'),\n",
              " Text(0.6346153846153846, 0.9, 'Age <= 46.5\\ngini = 0.264\\nsamples = 115\\nvalue = [18, 97]'),\n",
              " Text(0.5048076923076923, 0.8333333333333334, 'EstimatedSalary <= 35500.0\\ngini = 0.444\\nsamples = 24\\nvalue = [8, 16]'),\n",
              " Text(0.4423076923076923, 0.7666666666666667, 'EstimatedSalary <= 22500.0\\ngini = 0.219\\nsamples = 8\\nvalue = [1, 7]'),\n",
              " Text(0.4230769230769231, 0.7, 'Age <= 45.5\\ngini = 0.444\\nsamples = 3\\nvalue = [1, 2]'),\n",
              " Text(0.40384615384615385, 0.6333333333333333, 'gini = 0.0\\nsamples = 2\\nvalue = [0, 2]'),\n",
              " Text(0.4423076923076923, 0.6333333333333333, 'gini = 0.0\\nsamples = 1\\nvalue = [1, 0]'),\n",
              " Text(0.46153846153846156, 0.7, 'gini = 0.0\\nsamples = 5\\nvalue = [0, 5]'),\n",
              " Text(0.5673076923076923, 0.7666666666666667, 'EstimatedSalary <= 104000.0\\ngini = 0.492\\nsamples = 16\\nvalue = [7, 9]'),\n",
              " Text(0.5192307692307693, 0.7, 'EstimatedSalary <= 52000.0\\ngini = 0.48\\nsamples = 10\\nvalue = [6, 4]'),\n",
              " Text(0.4807692307692308, 0.6333333333333333, 'EstimatedSalary <= 40000.0\\ngini = 0.444\\nsamples = 3\\nvalue = [1, 2]'),\n",
              " Text(0.46153846153846156, 0.5666666666666667, 'gini = 0.0\\nsamples = 1\\nvalue = [1, 0]'),\n",
              " Text(0.5, 0.5666666666666667, 'gini = 0.0\\nsamples = 2\\nvalue = [0, 2]'),\n",
              " Text(0.5576923076923077, 0.6333333333333333, 'EstimatedSalary <= 76500.0\\ngini = 0.408\\nsamples = 7\\nvalue = [5, 2]'),\n",
              " Text(0.5384615384615384, 0.5666666666666667, 'gini = 0.0\\nsamples = 2\\nvalue = [2, 0]'),\n",
              " Text(0.5769230769230769, 0.5666666666666667, 'Age <= 45.5\\ngini = 0.48\\nsamples = 5\\nvalue = [3, 2]'),\n",
              " Text(0.5576923076923077, 0.5, 'gini = 0.0\\nsamples = 1\\nvalue = [1, 0]'),\n",
              " Text(0.5961538461538461, 0.5, 'EstimatedSalary <= 80500.0\\ngini = 0.5\\nsamples = 4\\nvalue = [2, 2]'),\n",
              " Text(0.5769230769230769, 0.43333333333333335, 'gini = 0.0\\nsamples = 1\\nvalue = [0, 1]'),\n",
              " Text(0.6153846153846154, 0.43333333333333335, 'EstimatedSalary <= 85000.0\\ngini = 0.444\\nsamples = 3\\nvalue = [2, 1]'),\n",
              " Text(0.5961538461538461, 0.36666666666666664, 'gini = 0.0\\nsamples = 1\\nvalue = [1, 0]'),\n",
              " Text(0.6346153846153846, 0.36666666666666664, 'EstimatedSalary <= 92000.0\\ngini = 0.5\\nsamples = 2\\nvalue = [1, 1]'),\n",
              " Text(0.6153846153846154, 0.3, 'gini = 0.0\\nsamples = 1\\nvalue = [0, 1]'),\n",
              " Text(0.6538461538461539, 0.3, 'gini = 0.0\\nsamples = 1\\nvalue = [1, 0]'),\n",
              " Text(0.6153846153846154, 0.7, 'EstimatedSalary <= 132000.0\\ngini = 0.278\\nsamples = 6\\nvalue = [1, 5]'),\n",
              " Text(0.5961538461538461, 0.6333333333333333, 'gini = 0.0\\nsamples = 4\\nvalue = [0, 4]'),\n",
              " Text(0.6346153846153846, 0.6333333333333333, 'EstimatedSalary <= 136000.0\\ngini = 0.5\\nsamples = 2\\nvalue = [1, 1]'),\n",
              " Text(0.6153846153846154, 0.5666666666666667, 'gini = 0.0\\nsamples = 1\\nvalue = [1, 0]'),\n",
              " Text(0.6538461538461539, 0.5666666666666667, 'gini = 0.0\\nsamples = 1\\nvalue = [0, 1]'),\n",
              " Text(0.7644230769230769, 0.8333333333333334, 'EstimatedSalary <= 41500.0\\ngini = 0.196\\nsamples = 91\\nvalue = [10, 81]'),\n",
              " Text(0.7451923076923077, 0.7666666666666667, 'gini = 0.0\\nsamples = 29\\nvalue = [0, 29]'),\n",
              " Text(0.7836538461538461, 0.7666666666666667, 'EstimatedSalary <= 48000.0\\ngini = 0.271\\nsamples = 62\\nvalue = [10, 52]'),\n",
              " Text(0.6923076923076923, 0.7, 'Age <= 54.0\\ngini = 0.5\\nsamples = 8\\nvalue = [4, 4]'),\n",
              " Text(0.6730769230769231, 0.6333333333333333, 'gini = 0.0\\nsamples = 3\\nvalue = [3, 0]'),\n",
              " Text(0.7115384615384616, 0.6333333333333333, 'Age <= 59.5\\ngini = 0.32\\nsamples = 5\\nvalue = [1, 4]'),\n",
              " Text(0.6923076923076923, 0.5666666666666667, 'Age <= 58.5\\ngini = 0.5\\nsamples = 2\\nvalue = [1, 1]'),\n",
              " Text(0.6730769230769231, 0.5, 'gini = 0.0\\nsamples = 1\\nvalue = [0, 1]'),\n",
              " Text(0.7115384615384616, 0.5, 'gini = 0.0\\nsamples = 1\\nvalue = [1, 0]'),\n",
              " Text(0.7307692307692307, 0.5666666666666667, 'gini = 0.0\\nsamples = 3\\nvalue = [0, 3]'),\n",
              " Text(0.875, 0.7, 'Age <= 52.5\\ngini = 0.198\\nsamples = 54\\nvalue = [6, 48]'),\n",
              " Text(0.8076923076923077, 0.6333333333333333, 'Age <= 48.5\\ngini = 0.293\\nsamples = 28\\nvalue = [5, 23]'),\n",
              " Text(0.7692307692307693, 0.5666666666666667, 'EstimatedSalary <= 139500.0\\ngini = 0.124\\nsamples = 15\\nvalue = [1, 14]'),\n",
              " Text(0.75, 0.5, 'gini = 0.0\\nsamples = 13\\nvalue = [0, 13]'),\n",
              " Text(0.7884615384615384, 0.5, 'EstimatedSalary <= 142500.0\\ngini = 0.5\\nsamples = 2\\nvalue = [1, 1]'),\n",
              " Text(0.7692307692307693, 0.43333333333333335, 'gini = 0.0\\nsamples = 1\\nvalue = [1, 0]'),\n",
              " Text(0.8076923076923077, 0.43333333333333335, 'gini = 0.0\\nsamples = 1\\nvalue = [0, 1]'),\n",
              " Text(0.8461538461538461, 0.5666666666666667, 'EstimatedSalary <= 80000.0\\ngini = 0.426\\nsamples = 13\\nvalue = [4, 9]'),\n",
              " Text(0.8269230769230769, 0.5, 'gini = 0.0\\nsamples = 2\\nvalue = [2, 0]'),\n",
              " Text(0.8653846153846154, 0.5, 'Age <= 50.5\\ngini = 0.298\\nsamples = 11\\nvalue = [2, 9]'),\n",
              " Text(0.8461538461538461, 0.43333333333333335, 'gini = 0.0\\nsamples = 5\\nvalue = [0, 5]'),\n",
              " Text(0.8846153846153846, 0.43333333333333335, 'EstimatedSalary <= 136000.0\\ngini = 0.444\\nsamples = 6\\nvalue = [2, 4]'),\n",
              " Text(0.8653846153846154, 0.36666666666666664, 'EstimatedSalary <= 102000.0\\ngini = 0.444\\nsamples = 3\\nvalue = [2, 1]'),\n",
              " Text(0.8461538461538461, 0.3, 'gini = 0.0\\nsamples = 1\\nvalue = [0, 1]'),\n",
              " Text(0.8846153846153846, 0.3, 'gini = 0.0\\nsamples = 2\\nvalue = [2, 0]'),\n",
              " Text(0.9038461538461539, 0.36666666666666664, 'gini = 0.0\\nsamples = 3\\nvalue = [0, 3]'),\n",
              " Text(0.9423076923076923, 0.6333333333333333, 'Age <= 58.5\\ngini = 0.074\\nsamples = 26\\nvalue = [1, 25]'),\n",
              " Text(0.9230769230769231, 0.5666666666666667, 'gini = 0.0\\nsamples = 18\\nvalue = [0, 18]'),\n",
              " Text(0.9615384615384616, 0.5666666666666667, 'EstimatedSalary <= 85500.0\\ngini = 0.219\\nsamples = 8\\nvalue = [1, 7]'),\n",
              " Text(0.9423076923076923, 0.5, 'EstimatedSalary <= 79500.0\\ngini = 0.444\\nsamples = 3\\nvalue = [1, 2]'),\n",
              " Text(0.9230769230769231, 0.43333333333333335, 'gini = 0.0\\nsamples = 1\\nvalue = [0, 1]'),\n",
              " Text(0.9615384615384616, 0.43333333333333335, 'Age <= 59.5\\ngini = 0.5\\nsamples = 2\\nvalue = [1, 1]'),\n",
              " Text(0.9423076923076923, 0.36666666666666664, 'gini = 0.0\\nsamples = 1\\nvalue = [1, 0]'),\n",
              " Text(0.9807692307692307, 0.36666666666666664, 'gini = 0.0\\nsamples = 1\\nvalue = [0, 1]'),\n",
              " Text(0.9807692307692307, 0.5, 'gini = 0.0\\nsamples = 5\\nvalue = [0, 5]')]"
            ]
          },
          "metadata": {},
          "execution_count": 7
        },
        {
          "output_type": "display_data",
          "data": {
            "text/plain": [
              "<Figure size 432x288 with 1 Axes>"
            ],
            "image/png": "[encoded data removed]"
          },
          "metadata": {
            "needs_background": "light"
          }
        }
      ]
    }
  ]
}